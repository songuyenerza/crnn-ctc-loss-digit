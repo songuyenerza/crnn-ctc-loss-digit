{
 "cells": [
  {
   "cell_type": "code",
   "execution_count": 1,
   "metadata": {},
   "outputs": [],
   "source": [
    "from PIL import Image\n",
    "import random\n",
    "import numpy as np\n",
    "import cv2\n",
    "from data_aug.data_aug import *\n",
    "from data_aug.bbox_util import *\n",
    "import matplotlib.pyplot as plt \n",
    "import pickle as pkl\n",
    "import random\n",
    "import os\n",
    "from PIL import Image, ImageEnhance\n",
    "\n",
    "from straug.blur import GaussianBlur, DefocusBlur, MotionBlur, GlassBlur, ZoomBlur\n",
    "from straug.camera import Contrast, Brightness, JpegCompression, Pixelate, LightAndShadow\n",
    "from straug.geometry import Rotate, Perspective, Shrink, TranslateX, TranslateY\n",
    "from straug.noise import GaussianNoise, ShotNoise, ImpulseNoise, SpeckleNoise\n",
    "from straug.pattern import VGrid, HGrid, Grid, RectGrid, EllipseGrid\n",
    "from straug.process import Posterize, Solarize, Invert, Equalize, AutoContrast, Sharpness, Color\n",
    "from straug.warp import Curve, Distort, Stretch\n",
    "from straug.weather import Fog, Snow, Frost, Rain, Shadow"
   ]
  },
  {
   "cell_type": "code",
   "execution_count": 2,
   "metadata": {},
   "outputs": [],
   "source": [
    "def random_crop(image, ratio = 0.07):\n",
    "    pct_focusx = random.uniform(0, ratio)\n",
    "    pct_focusy = random.uniform(0, ratio)\n",
    "    x, y = image.size\n",
    "    image = image.crop((x*pct_focusx, y*pct_focusy, x*(1-pct_focusx), y*(1-pct_focusy)))\n",
    "    \n",
    "    return image\n"
   ]
  },
  {
   "cell_type": "markdown",
   "metadata": {},
   "source": [
    "# aug_train"
   ]
  },
  {
   "cell_type": "code",
   "execution_count": 3,
   "metadata": {},
   "outputs": [],
   "source": [
    "\n",
    "# data_folder = \"/home/sonnt373/Desktop/SoNg/Face_quality/dev/data/data_train_100k_140723/9057\"\n",
    "# folder_output = \"check_output/\"\n",
    "\n",
    "folder_input = \"/home/sonnt373/Desktop/SoNg/Face_quality/dev/data/data_train_100k_140723/\"\n",
    "\n",
    "for data_clas in os.listdir(folder_input):\n",
    "    data_folder = os.path.join(folder_input, data_clas)\n",
    "\n",
    "    for _ in range(1):\n",
    "        for path in os.listdir(data_folder):\n",
    "            image_name= path[:-4]\n",
    "            image_path = os.path.join(data_folder , path)\n",
    "            img = cv2.imread(image_path)\n",
    "            img_= Image.fromarray(img)\n",
    "            img_ = random_crop(img_)\n",
    "            \n",
    "            # Random sharpen\n",
    "            choice = random.uniform(0,1)\n",
    "            if choice > 0.4:\n",
    "                img3 = ImageEnhance.Sharpness(img_)\n",
    "                img_ = img3.enhance(random.randint(-2,2))\n",
    "\n",
    "            # defocus blur random\n",
    "            choice = random.uniform(0,2)\n",
    "            choice_mag = random.randint(0,4)\n",
    "            if choice > 0.5:\n",
    "                img_ = DefocusBlur()(img_, mag=choice_mag)\n",
    "\n",
    "            # Random bright\n",
    "            choice = random.uniform(0,1)\n",
    "            choice_mag = random.randint(0,3)\n",
    "            if choice > 0.5: \n",
    "                img_ = Brightness()(img_, mag= choice_mag)\n",
    "\n",
    "            choice = random.uniform(0,1)\n",
    "            choice_mag = random.randint(0,3)\n",
    "\n",
    "            if choice > 0.5 :\n",
    "                img_ = MotionBlur()(img_, mag=choice_mag)\n",
    "\n",
    "            img_ = np.asarray(img_)\n",
    "            count= random.randint(0,1000)\n",
    "            name = str(image_name)+\"_aug\" + str(count) +'.jpg'\n",
    "            # Random quality\n",
    "            quality_save = random.randint(50,100)\n",
    "            cv2.imwrite(os.path.join(data_folder, name), img_, [cv2.IMWRITE_JPEG_QUALITY, quality_save])\n",
    "            \n",
    "        "
   ]
  },
  {
   "cell_type": "code",
   "execution_count": null,
   "metadata": {},
   "outputs": [],
   "source": []
  }
 ],
 "metadata": {
  "anaconda-cloud": {},
  "interpreter": {
   "hash": "1aee8437345988c8825fe424dfed33296cb482833178e30664e8cbab21b1a22e"
  },
  "kernelspec": {
   "display_name": "Python 3.9.7 ('bops')",
   "language": "python",
   "name": "python3"
  },
  "language_info": {
   "codemirror_mode": {
    "name": "ipython",
    "version": 3
   },
   "file_extension": ".py",
   "mimetype": "text/x-python",
   "name": "python",
   "nbconvert_exporter": "python",
   "pygments_lexer": "ipython3",
   "version": "3.8.0"
  }
 },
 "nbformat": 4,
 "nbformat_minor": 1
}
