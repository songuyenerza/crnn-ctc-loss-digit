{
 "cells": [
  {
   "cell_type": "code",
   "execution_count": 3,
   "metadata": {},
   "outputs": [],
   "source": [
    "from PIL import Image\n",
    "import random\n",
    "import numpy as np\n",
    "from PIL import Image\n",
    "import cv2\n",
    "\n",
    "from straug.blur import GaussianBlur, DefocusBlur, MotionBlur, GlassBlur, ZoomBlur\n",
    "from straug.camera import Contrast, Brightness, JpegCompression, Pixelate\n",
    "from straug.geometry import Rotate, Perspective, Shrink, TranslateX, TranslateY\n",
    "from straug.noise import GaussianNoise, ShotNoise, ImpulseNoise, SpeckleNoise\n",
    "from straug.pattern import VGrid, HGrid, Grid, RectGrid, EllipseGrid\n",
    "from straug.process import Posterize, Solarize, Invert, Equalize, AutoContrast, Sharpness, Color\n",
    "from straug.warp import Curve, Distort, Stretch\n",
    "from straug.weather import Fog, Snow, Frost, Rain, Shadow"
   ]
  },
  {
   "cell_type": "code",
   "execution_count": 4,
   "metadata": {},
   "outputs": [],
   "source": [
    "from data_aug.data_aug import *\n",
    "from data_aug.bbox_util import *\n",
    "import numpy as np \n",
    "import cv2\n",
    "import matplotlib.pyplot as plt \n",
    "import pickle as pkl\n",
    "%matplotlib inline"
   ]
  },
  {
   "cell_type": "markdown",
   "metadata": {},
   "source": [
    "# aug_train"
   ]
  },
  {
   "cell_type": "code",
   "execution_count": 5,
   "metadata": {},
   "outputs": [
    {
     "data": {
      "text/plain": [
       "665"
      ]
     },
     "execution_count": 5,
     "metadata": {},
     "output_type": "execute_result"
    }
   ],
   "source": [
    "train_unaug_png_path = 'D:/ANlab/sequence-generator/data_plate_num/'\n",
    "train_unaug_png_file = os.listdir(train_unaug_png_path)\n",
    "len(train_unaug_png_file)"
   ]
  },
  {
   "cell_type": "code",
   "execution_count": 6,
   "metadata": {},
   "outputs": [],
   "source": [
    "from get_mnist import *"
   ]
  },
  {
   "cell_type": "code",
   "execution_count": 7,
   "metadata": {},
   "outputs": [],
   "source": [
    "bboxes = pkl.load(open(\"D:/ANlab/sequence-generator/data/mnist.pkl\", \"rb\"))\n",
    "bboxes =bboxes['training_images']"
   ]
  },
  {
   "cell_type": "code",
   "execution_count": 8,
   "metadata": {},
   "outputs": [
    {
     "data": {
      "text/plain": [
       "665"
      ]
     },
     "execution_count": 8,
     "metadata": {},
     "output_type": "execute_result"
    }
   ],
   "source": [
    "data_folder = \"D:/ANlab/sequence-generator/data_plate_num\"\n",
    "train_image_paths= []\n",
    "image_label_train=[]\n",
    "for path in os.listdir(data_folder):\n",
    "    train_image_paths.append(data_folder + \"/\" + path)\n",
    "    # print(path)\n",
    "    img_name = path[0:len(path)-20]\n",
    "    \n",
    "    # if len(img_name)== 1: \n",
    "    #     img_name= img_name + 'z'+ 'z'+ 'z'+'z' + 'z'\n",
    "    # if len(img_name)==2:\n",
    "    #     img_name = img_name + 'z'+ 'z'+ 'z' +'z'\n",
    "\n",
    "    # if len(img_name)==3:\n",
    "    #     img_name = img_name + 'z'+ 'z'+ 'z'\n",
    "    # if len(img_name)==4:\n",
    "    #     img_name = img_name + 'z'+ 'z'\n",
    "\n",
    "    # if len(img_name)==5:\n",
    "    #     img_name = img_name + 'z'\n",
    "    # if len(img_name)==6:\n",
    "    #     img_name = img_name \n",
    "\n",
    "    # print(img_name)\n",
    "    image_label_train.append(img_name)\n",
    "len(train_image_paths)"
   ]
  },
  {
   "cell_type": "code",
   "execution_count": 9,
   "metadata": {},
   "outputs": [],
   "source": [
    "for _ in range(100):\n",
    "    for path in os.listdir(data_folder):\n",
    "        # path = train_unaug_png_file + image\n",
    "        # print(image_path)\n",
    "        image_name= path[0:len(path)-20]\n",
    "        \n",
    "        # print(image_name)\n",
    "        image_path = data_folder + \"/\" + path\n",
    "        img = cv2.imread(image_path)\n",
    "        \n",
    "        angle= random.randint(-4,4)\n",
    "        img = rotate_im(img, angle)\n",
    "        \n",
    "        new_width = 150\n",
    "        new_height = int(new_width*img.shape[0]/img.shape[1])\n",
    "        img = cv2.resize(img, (new_width, new_height))\n",
    "        img_= Image.fromarray(img)\n",
    "\n",
    "        choice = random.uniform(0,1)\n",
    "        if choice > 0.3:\n",
    "            # img_ = MotionBlur()(img_,mag=2)\n",
    "            # img_ = SpeckleNoise()(img_, mag=0)\n",
    "            # img_= Rotate(angle=10)(img_)\n",
    "            img_ = DefocusBlur()(img_, mag=0)\n",
    "        choice = random.uniform(0,1)\n",
    "        choice_mag = random.randint(0,1)\n",
    "        # if choice > 0.3:\n",
    "        #     img_ = Fog()(img_, mag = 0)\n",
    "        choice = random.uniform(0,1)\n",
    "        choice_mag = random.randint(0,1)\n",
    "        if choice > 0.5: \n",
    "            img_ = Contrast()(img_, mag=choice_mag)\n",
    "        choice = random.uniform(0,1)\n",
    "        # if choice > 0.7 : \n",
    "            # img_ = Rotate(img_)\n",
    "        choice = random.uniform(0,1)\n",
    "        choice_mag = random.randint(0,1)\n",
    "        if choice > 0.3 :\n",
    "            img_ = Color()(img_, mag=choice_mag)\n",
    "        \n",
    "        img_ = np.asarray(img_)\n",
    "        count= random.randint(100000000000000,999999999999999)\n",
    "        name = 'data_plate_num_augment_0806'+'/' + str(image_name)+\"_\" + str(count) +'.png'\n",
    "        # print(name)\n",
    "        # img_.save(name, quality= 100)\n",
    "        cv2.imwrite(name, img_, [cv2.IMWRITE_JPEG_QUALITY, 100])\n",
    "        \n",
    "        "
   ]
  },
  {
   "cell_type": "code",
   "execution_count": null,
   "metadata": {},
   "outputs": [],
   "source": []
  }
 ],
 "metadata": {
  "anaconda-cloud": {},
  "interpreter": {
   "hash": "1aee8437345988c8825fe424dfed33296cb482833178e30664e8cbab21b1a22e"
  },
  "kernelspec": {
   "display_name": "Python 3.9.7 ('bops')",
   "language": "python",
   "name": "python3"
  },
  "language_info": {
   "codemirror_mode": {
    "name": "ipython",
    "version": 3
   },
   "file_extension": ".py",
   "mimetype": "text/x-python",
   "name": "python",
   "nbconvert_exporter": "python",
   "pygments_lexer": "ipython3",
   "version": "3.9.7"
  }
 },
 "nbformat": 4,
 "nbformat_minor": 1
}
